{
  "nbformat": 4,
  "nbformat_minor": 0,
  "metadata": {
    "colab": {
      "provenance": []
    },
    "kernelspec": {
      "name": "python3",
      "display_name": "Python 3"
    },
    "language_info": {
      "name": "python"
    }
  },
  "cells": [
    {
      "cell_type": "code",
      "execution_count": 3,
      "metadata": {
        "colab": {
          "base_uri": "https://localhost:8080/"
        },
        "id": "8KToAeBQW1CR",
        "outputId": "61612ec7-ecfc-4727-aa97-9742b046de35"
      },
      "outputs": [
        {
          "output_type": "stream",
          "name": "stdout",
          "text": [
            "            Price   Open   High    Low      Vol.  Change %\n",
            "Date                                                      \n",
            "2015-06-15  237.0  233.8  238.6  233.3   63470.0      1.39\n",
            "2015-06-16  249.8  237.0  254.1  235.7  122470.0      5.41\n",
            "2015-06-17  247.4  249.8  258.5  245.1  121620.0     -0.98\n",
            "2015-06-18  248.4  247.4  251.9  242.5   78140.0      0.43\n",
            "2015-06-19  244.1  248.4  250.8  243.6   84700.0     -1.73\n"
          ]
        }
      ],
      "source": [
        "import pandas as pd\n",
        "\n",
        "# Load the dataset\n",
        "df = pd.read_csv(\"Bitcoin Historical Data.csv\")\n",
        "\n",
        "# Step 1: Remove commas from numeric columns and convert to float\n",
        "cols_to_clean = ['Price', 'Open', 'High', 'Low']\n",
        "for col in cols_to_clean:\n",
        "    df[col] = df[col].str.replace(',', '', regex=False).astype(float)\n",
        "\n",
        "# Step 2: Clean 'Vol.' column – handle B, M, K, -, and missing\n",
        "def convert_volume(vol):\n",
        "    if isinstance(vol, str):\n",
        "        vol = vol.replace(',', '').strip()\n",
        "        if vol == '-' or vol == '':\n",
        "            return None\n",
        "        elif 'K' in vol:\n",
        "            return float(vol.replace('K', '')) * 1_000\n",
        "        elif 'M' in vol:\n",
        "            return float(vol.replace('M', '')) * 1_000_000\n",
        "        elif 'B' in vol:\n",
        "            return float(vol.replace('B', '')) * 1_000_000_000\n",
        "        else:\n",
        "            return float(vol)\n",
        "    return vol\n",
        "\n",
        "# Apply to correct volume column\n",
        "df['Vol.'] = df['Vol.'].apply(convert_volume)\n",
        "\n",
        "# Step 3: Clean 'Change %' column – remove '%' and convert to float\n",
        "df['Change %'] = df['Change %'].str.replace('%', '', regex=False).astype(float)\n",
        "\n",
        "# Step 4: Convert 'Date' to datetime format\n",
        "df['Date'] = pd.to_datetime(df['Date'], format='%m/%d/%Y')\n",
        "\n",
        "# Step 5: Sort by date (ascending)\n",
        "df = df.sort_values(by='Date')\n",
        "\n",
        "# Step 6: Set 'Date' as index\n",
        "df.set_index('Date', inplace=True)\n",
        "\n",
        "# Final check\n",
        "print(df.head())"
      ]
    },
    {
      "cell_type": "code",
      "source": [
        "df.to_csv(\"Bitcoin_Cleaned.csv\")"
      ],
      "metadata": {
        "id": "BbQkDuGPXm8C"
      },
      "execution_count": 4,
      "outputs": []
    },
    {
      "cell_type": "code",
      "source": [
        "from google.colab import files\n",
        "files.download(\"Bitcoin_Cleaned.csv\")"
      ],
      "metadata": {
        "colab": {
          "base_uri": "https://localhost:8080/",
          "height": 17
        },
        "id": "OL-fiW_oX5tp",
        "outputId": "77af17fa-6479-4b06-dbfb-8c8f98d2fa18"
      },
      "execution_count": 5,
      "outputs": [
        {
          "output_type": "display_data",
          "data": {
            "text/plain": [
              "<IPython.core.display.Javascript object>"
            ],
            "application/javascript": [
              "\n",
              "    async function download(id, filename, size) {\n",
              "      if (!google.colab.kernel.accessAllowed) {\n",
              "        return;\n",
              "      }\n",
              "      const div = document.createElement('div');\n",
              "      const label = document.createElement('label');\n",
              "      label.textContent = `Downloading \"${filename}\": `;\n",
              "      div.appendChild(label);\n",
              "      const progress = document.createElement('progress');\n",
              "      progress.max = size;\n",
              "      div.appendChild(progress);\n",
              "      document.body.appendChild(div);\n",
              "\n",
              "      const buffers = [];\n",
              "      let downloaded = 0;\n",
              "\n",
              "      const channel = await google.colab.kernel.comms.open(id);\n",
              "      // Send a message to notify the kernel that we're ready.\n",
              "      channel.send({})\n",
              "\n",
              "      for await (const message of channel.messages) {\n",
              "        // Send a message to notify the kernel that we're ready.\n",
              "        channel.send({})\n",
              "        if (message.buffers) {\n",
              "          for (const buffer of message.buffers) {\n",
              "            buffers.push(buffer);\n",
              "            downloaded += buffer.byteLength;\n",
              "            progress.value = downloaded;\n",
              "          }\n",
              "        }\n",
              "      }\n",
              "      const blob = new Blob(buffers, {type: 'application/binary'});\n",
              "      const a = document.createElement('a');\n",
              "      a.href = window.URL.createObjectURL(blob);\n",
              "      a.download = filename;\n",
              "      div.appendChild(a);\n",
              "      a.click();\n",
              "      div.remove();\n",
              "    }\n",
              "  "
            ]
          },
          "metadata": {}
        },
        {
          "output_type": "display_data",
          "data": {
            "text/plain": [
              "<IPython.core.display.Javascript object>"
            ],
            "application/javascript": [
              "download(\"download_4e7f4b6d-5a86-4a6a-9855-de88dac734ed\", \"Bitcoin_Cleaned.csv\", 200118)"
            ]
          },
          "metadata": {}
        }
      ]
    }
  ]
}